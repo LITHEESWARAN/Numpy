{
 "cells": [
  {
   "cell_type": "raw",
   "id": "cee7fdd4",
   "metadata": {},
   "source": [
    "1.What is a Python library? Why do we use Python libraries?\n",
    "\n",
    "A Python library is a collection of pre-written code that provides functionalities for various tasks. Libraries help developers by providing reusable code, which can speed up development and prevent \"reinventing the wheel.\" They cover a range of purposes, from data manipulation and visualization to machine learning and web development.\n",
    "\n",
    "\n",
    "2.What is the difference between a NumPy array and a list?\n",
    "\n",
    "NumPy Array: Supports element-wise operations, provides efficient storage and data manipulation, and can perform complex mathematical functions efficiently.\n",
    "List: More general-purpose, can hold elements of different types, and is slower for numerical operations and large datasets.\n",
    "\n",
    "\n",
    "3.Find the shape, size, and dimension of the following array:\n",
    "\n",
    "[[1, 2, 3, 4],\n",
    "[5, 6, 7, 8],\n",
    "[9, 10, 11, 12]]\n",
    "\n",
    "Shape: (3, 4)\n",
    "Size: 12\n",
    "Dimension: 2\n",
    "\n",
    "\n",
    "4.Write Python code to access the first row of the following array:\n",
    "\n",
    "\n",
    "\n",
    "import numpy as np\n",
    "\n",
    "array = np.array([[1, 2, 3, 4],\n",
    "                  [5, 6, 7, 8],\n",
    "                  [9, 10, 11, 12]])\n",
    "\n",
    "first_row = array[0]\n",
    "print(first_row)\n",
    "\n",
    "\n",
    "5.How do you access the element at the third row and fourth column from the given NumPy array?\n",
    "\n",
    "\n",
    "element = array[2, 3]\n",
    "print(element)\n",
    "\n",
    "\n",
    "6.Write code to extract all odd-indexed elements from the given NumPy array:\n",
    "\n",
    "odd_indexed_elements = array[:, 1::2]\n",
    "print(odd_indexed_elements)\n",
    "\n",
    "\n",
    "7.How can you generate a random 3x3 matrix with values between 0 and 1?\n",
    "random_matrix = np.random.rand(3, 3)\n",
    "print(random_matrix)\n",
    "\n",
    "\n",
    "8.Describe the difference between np.random.rand and np.random.randn:\n",
    "\n",
    "np.random.rand: Generates random numbers from a uniform distribution over [0, 1)\n",
    "np.random.randn: Generates random numbers from a standard normal distribution (mean 0, variance 1).\n",
    "\n",
    "9.Write code to increase the dimension of the following array:\n",
    "\n",
    "new_array = np.expand_dims(array, axis=0)\n",
    "print(new_array)\n",
    "\n",
    "10.How to transpose the following array in NumPy?\n",
    "\n",
    "\n",
    "transposed_array = np.transpose(array)\n",
    "print(transposed_array)\n"
   ]
  },
  {
   "cell_type": "code",
   "execution_count": 1,
   "id": "134fc738",
   "metadata": {},
   "outputs": [
    {
     "name": "stdout",
     "output_type": "stream",
     "text": [
      "Index-wise Multiplication:\n",
      " [[  1   4   9  16]\n",
      " [ 25  36  49  64]\n",
      " [ 81 100 121 144]]\n"
     ]
    }
   ],
   "source": [
    "#11.Index-wise multiplication:\n",
    "import numpy as np\n",
    "\n",
    "A = np.array([[1, 2, 3, 4],\n",
    "              [5, 6, 7, 8],\n",
    "              [9, 10, 11, 12]])\n",
    "B = np.array([[1, 2, 3, 4],\n",
    "              [5, 6, 7, 8],\n",
    "              [9, 10, 11, 12]])\n",
    "\n",
    "index_wise_multiplication = A * B\n",
    "print(\"Index-wise Multiplication:\\n\", index_wise_multiplication)\n"
   ]
  },
  {
   "cell_type": "code",
   "execution_count": 2,
   "id": "7900fa7b",
   "metadata": {},
   "outputs": [
    {
     "name": "stdout",
     "output_type": "stream",
     "text": [
      "Matrix Multiplication:\n",
      " [[ 30  70 110]\n",
      " [ 70 174 278]\n",
      " [110 278 446]]\n"
     ]
    }
   ],
   "source": [
    "#2.Matrix multiplication:\n",
    "matrix_multiplication = np.dot(A, B.T)  # B.T is the transpose of B\n",
    "print(\"Matrix Multiplication:\\n\", matrix_multiplication)\n"
   ]
  },
  {
   "cell_type": "code",
   "execution_count": 3,
   "id": "ac1ca931",
   "metadata": {},
   "outputs": [
    {
     "name": "stdout",
     "output_type": "stream",
     "text": [
      "Matrix Addition:\n",
      " [[ 2  4  6  8]\n",
      " [10 12 14 16]\n",
      " [18 20 22 24]]\n"
     ]
    }
   ],
   "source": [
    "#3.Add both matrices:\n",
    "matrix_addition = A + B\n",
    "print(\"Matrix Addition:\\n\", matrix_addition)\n"
   ]
  },
  {
   "cell_type": "code",
   "execution_count": 4,
   "id": "f75ab6d0",
   "metadata": {},
   "outputs": [
    {
     "name": "stdout",
     "output_type": "stream",
     "text": [
      "Matrix Subtraction:\n",
      " [[0 0 0 0]\n",
      " [0 0 0 0]\n",
      " [0 0 0 0]]\n"
     ]
    }
   ],
   "source": [
    "#4.Subtract matrix B from A:\n",
    "matrix_subtraction = A - B\n",
    "print(\"Matrix Subtraction:\\n\", matrix_subtraction)\n"
   ]
  },
  {
   "cell_type": "code",
   "execution_count": 5,
   "id": "ec836bce",
   "metadata": {},
   "outputs": [
    {
     "name": "stdout",
     "output_type": "stream",
     "text": [
      "Matrix Division:\n",
      " [[1. 1. 1. 1.]\n",
      " [1. 1. 1. 1.]\n",
      " [1. 1. 1. 1.]]\n"
     ]
    }
   ],
   "source": [
    "#5.Divide Matrix B by A:\n",
    "matrix_division = B / A\n",
    "print(\"Matrix Division:\\n\", matrix_division)\n"
   ]
  },
  {
   "cell_type": "raw",
   "id": "9cceabd9",
   "metadata": {},
   "source": [
    "12.Which function in NumPy can be used to swap the byte order of an array?\n",
    "\n",
    "np.byteswap()\n",
    "\n",
    "13.What is the significance of the np.linalg.inv function?\n",
    "np.linalg.inv computes the inverse of a matrix, which is useful in solving systems of linear equations and in various mathematical computations.\n",
    "\n",
    "14.What does the np.reshape function do, and how is it used?\n",
    "np.reshape changes the shape of an array without changing its data. It is used to rearrange the elements of an array into a different shape.\n",
    "\n",
    "reshaped_array = np.reshape(array, (2, 6))\n",
    "\n",
    "15.What is broadcasting in NumPy?\n",
    "Broadcasting is a technique used to perform element-wise operations on arrays of different shapes. NumPy automatically expands the smaller array to match the shape of the larger array, allowing operations to be performed without explicitly replicating data.\n"
   ]
  },
  {
   "cell_type": "code",
   "execution_count": null,
   "id": "4f815c19",
   "metadata": {},
   "outputs": [],
   "source": []
  }
 ],
 "metadata": {
  "kernelspec": {
   "display_name": "Python 3 (ipykernel)",
   "language": "python",
   "name": "python3"
  },
  "language_info": {
   "codemirror_mode": {
    "name": "ipython",
    "version": 3
   },
   "file_extension": ".py",
   "mimetype": "text/x-python",
   "name": "python",
   "nbconvert_exporter": "python",
   "pygments_lexer": "ipython3",
   "version": "3.9.12"
  }
 },
 "nbformat": 4,
 "nbformat_minor": 5
}
